{
 "cells": [
  {
   "cell_type": "markdown",
   "id": "7bb60dd7",
   "metadata": {},
   "source": [
    "# 최근 7일간 코로나 현황 데이터 크롤링"
   ]
  },
  {
   "cell_type": "code",
   "execution_count": 79,
   "id": "1648030e",
   "metadata": {},
   "outputs": [],
   "source": [
    "from selenium import webdriver"
   ]
  },
  {
   "cell_type": "code",
   "execution_count": 80,
   "id": "a964ae19",
   "metadata": {},
   "outputs": [],
   "source": [
    "driver = webdriver.Chrome('C:/playwithdata/chromedriver.exe')\n",
    "\n",
    "url = 'https://search.naver.com/search.naver?where=nexearch&sm=top_hty&fbm=1&ie=utf8&query=%EC%BD%94%EB%A1%9C%EB%82%98+%ED%98%84%ED%99%A9'\n",
    "driver.get(url)"
   ]
  },
  {
   "cell_type": "code",
   "execution_count": 81,
   "id": "22c6fa89",
   "metadata": {},
   "outputs": [],
   "source": [
    "from bs4 import BeautifulSoup\n",
    "\n",
    "html = driver.page_source\n",
    "soup = BeautifulSoup(html,'html.parser')"
   ]
  },
  {
   "cell_type": "code",
   "execution_count": 82,
   "id": "0ea94a4c",
   "metadata": {},
   "outputs": [],
   "source": [
    "data = driver.find_elements_by_css_selector('div.column._column')"
   ]
  },
  {
   "cell_type": "code",
   "execution_count": 83,
   "id": "282a480a",
   "metadata": {},
   "outputs": [
    {
     "data": {
      "text/plain": [
       "7"
      ]
     },
     "execution_count": 83,
     "metadata": {},
     "output_type": "execute_result"
    }
   ],
   "source": [
    "len(data) #최근 일주일 데이터"
   ]
  },
  {
   "cell_type": "markdown",
   "id": "cccb6639",
   "metadata": {},
   "source": [
    "# 최근 일주일 데이터를 클릭하면서 리스트에 저장"
   ]
  },
  {
   "cell_type": "code",
   "execution_count": 84,
   "id": "a4223343",
   "metadata": {},
   "outputs": [],
   "source": [
    "dates = []\n",
    "today_total = []\n",
    "local = []\n",
    "oversea = []"
   ]
  },
  {
   "cell_type": "code",
   "execution_count": 85,
   "id": "14920838",
   "metadata": {},
   "outputs": [],
   "source": [
    "for today in data:\n",
    "    today.click() #클릭\n",
    "    html2 = driver.page_source\n",
    "    soup2 = BeautifulSoup(html2,'html.parser')\n",
    "    \n",
    "    #데이터로 접근 \n",
    "    data2 = soup2.select('div.tooltip_area._tooltip_wrapper > dl > div') \n",
    "    \n",
    "    dates.append(data2[0].select('dd')[0].text)\n",
    "    today_total.append(data2[0].select('dd')[1].text)\n",
    "    local.append(data2[1].select('dd')[0].text)\n",
    "    oversea.append(data2[1].select('dd')[1].text)"
   ]
  },
  {
   "cell_type": "code",
   "execution_count": 6,
   "id": "790d05fb",
   "metadata": {},
   "outputs": [],
   "source": [
    "# , 문자 제거해서 int형으로 만들 수 있게 만들기\n",
    "for i in range(len(today_total)):\n",
    "    today_total[i] = today_total[i].replace(',',\"\")    \n",
    "    local[i] = local[i].replace(',',\"\")\n",
    "    oversea[i] = oversea[i].replace(',',\"\")"
   ]
  },
  {
   "cell_type": "code",
   "execution_count": 8,
   "id": "69b5aeda",
   "metadata": {},
   "outputs": [
    {
     "name": "stdout",
     "output_type": "stream",
     "text": [
      "[2050, 1877, 1626, 1417, 1507, 2154, 1882]\n",
      "[1999, 1811, 1588, 1369, 1468, 2113, 1829]\n",
      "[51, 66, 38, 48, 39, 41, 53]\n"
     ]
    }
   ],
   "source": [
    "# int형으로 만들기\n",
    "today_total = list(map(int, today_total))\n",
    "local = list(map(int, local))\n",
    "oversea = list(map(int, oversea))\n",
    "\n",
    "print(today_total)\n",
    "print(local)\n",
    "print(oversea)"
   ]
  },
  {
   "cell_type": "code",
   "execution_count": 68,
   "id": "f1201298",
   "metadata": {
    "scrolled": true
   },
   "outputs": [
    {
     "name": "stdout",
     "output_type": "stream",
     "text": [
      "['8.19', '8.20', '8.21', '8.22', '8.23', '8.24', '8.25']\n",
      "[2050, 1877, 1626, 1417, 1507, 2154, 1882]\n",
      "[1999, 1811, 1588, 1369, 1468, 2113, 1829]\n",
      "[51, 66, 38, 48, 39, 41, 53]\n"
     ]
    }
   ],
   "source": [
    "print(dates)\n",
    "print(today_total)\n",
    "print(local)\n",
    "print(oversea)"
   ]
  },
  {
   "cell_type": "markdown",
   "id": "9e48556d",
   "metadata": {},
   "source": [
    "# DF 엑셀로 저장하기 "
   ]
  },
  {
   "cell_type": "code",
   "execution_count": 9,
   "id": "38a74751",
   "metadata": {},
   "outputs": [],
   "source": [
    "import pandas as pd"
   ]
  },
  {
   "cell_type": "code",
   "execution_count": 52,
   "id": "36e1ead5",
   "metadata": {},
   "outputs": [],
   "source": [
    "dic = {\n",
    "    '날짜' : dates,\n",
    "    '신규합계' : today_total,\n",
    "    '국내발생' : local,\n",
    "    '해외유입' : oversea\n",
    "}"
   ]
  },
  {
   "cell_type": "code",
   "execution_count": 59,
   "id": "a8bf5889",
   "metadata": {},
   "outputs": [],
   "source": [
    "df = pd.DataFrame(dic)"
   ]
  },
  {
   "cell_type": "code",
   "execution_count": 60,
   "id": "8b7049e0",
   "metadata": {},
   "outputs": [
    {
     "data": {
      "text/html": [
       "<div>\n",
       "<style scoped>\n",
       "    .dataframe tbody tr th:only-of-type {\n",
       "        vertical-align: middle;\n",
       "    }\n",
       "\n",
       "    .dataframe tbody tr th {\n",
       "        vertical-align: top;\n",
       "    }\n",
       "\n",
       "    .dataframe thead th {\n",
       "        text-align: right;\n",
       "    }\n",
       "</style>\n",
       "<table border=\"1\" class=\"dataframe\">\n",
       "  <thead>\n",
       "    <tr style=\"text-align: right;\">\n",
       "      <th></th>\n",
       "      <th>날짜</th>\n",
       "      <th>신규합계</th>\n",
       "      <th>국내발생</th>\n",
       "      <th>해외유입</th>\n",
       "    </tr>\n",
       "  </thead>\n",
       "  <tbody>\n",
       "    <tr>\n",
       "      <th>0</th>\n",
       "      <td>8.19</td>\n",
       "      <td>2050</td>\n",
       "      <td>1999</td>\n",
       "      <td>51</td>\n",
       "    </tr>\n",
       "    <tr>\n",
       "      <th>1</th>\n",
       "      <td>8.20</td>\n",
       "      <td>1877</td>\n",
       "      <td>1811</td>\n",
       "      <td>66</td>\n",
       "    </tr>\n",
       "    <tr>\n",
       "      <th>2</th>\n",
       "      <td>8.21</td>\n",
       "      <td>1626</td>\n",
       "      <td>1588</td>\n",
       "      <td>38</td>\n",
       "    </tr>\n",
       "    <tr>\n",
       "      <th>3</th>\n",
       "      <td>8.22</td>\n",
       "      <td>1417</td>\n",
       "      <td>1369</td>\n",
       "      <td>48</td>\n",
       "    </tr>\n",
       "    <tr>\n",
       "      <th>4</th>\n",
       "      <td>8.23</td>\n",
       "      <td>1507</td>\n",
       "      <td>1468</td>\n",
       "      <td>39</td>\n",
       "    </tr>\n",
       "    <tr>\n",
       "      <th>5</th>\n",
       "      <td>8.24</td>\n",
       "      <td>2154</td>\n",
       "      <td>2113</td>\n",
       "      <td>41</td>\n",
       "    </tr>\n",
       "    <tr>\n",
       "      <th>6</th>\n",
       "      <td>8.25</td>\n",
       "      <td>1882</td>\n",
       "      <td>1829</td>\n",
       "      <td>53</td>\n",
       "    </tr>\n",
       "  </tbody>\n",
       "</table>\n",
       "</div>"
      ],
      "text/plain": [
       "     날짜  신규합계  국내발생  해외유입\n",
       "0  8.19  2050  1999    51\n",
       "1  8.20  1877  1811    66\n",
       "2  8.21  1626  1588    38\n",
       "3  8.22  1417  1369    48\n",
       "4  8.23  1507  1468    39\n",
       "5  8.24  2154  2113    41\n",
       "6  8.25  1882  1829    53"
      ]
     },
     "execution_count": 60,
     "metadata": {},
     "output_type": "execute_result"
    }
   ],
   "source": [
    "df"
   ]
  },
  {
   "cell_type": "code",
   "execution_count": 61,
   "id": "919fd29e",
   "metadata": {
    "scrolled": true
   },
   "outputs": [],
   "source": [
    "df['날짜'] = df['날짜'].apply(lambda x: '2021-' + x.replace('.','-'))"
   ]
  },
  {
   "cell_type": "code",
   "execution_count": 62,
   "id": "c8254320",
   "metadata": {},
   "outputs": [
    {
     "data": {
      "text/html": [
       "<div>\n",
       "<style scoped>\n",
       "    .dataframe tbody tr th:only-of-type {\n",
       "        vertical-align: middle;\n",
       "    }\n",
       "\n",
       "    .dataframe tbody tr th {\n",
       "        vertical-align: top;\n",
       "    }\n",
       "\n",
       "    .dataframe thead th {\n",
       "        text-align: right;\n",
       "    }\n",
       "</style>\n",
       "<table border=\"1\" class=\"dataframe\">\n",
       "  <thead>\n",
       "    <tr style=\"text-align: right;\">\n",
       "      <th></th>\n",
       "      <th>날짜</th>\n",
       "      <th>신규합계</th>\n",
       "      <th>국내발생</th>\n",
       "      <th>해외유입</th>\n",
       "    </tr>\n",
       "  </thead>\n",
       "  <tbody>\n",
       "    <tr>\n",
       "      <th>0</th>\n",
       "      <td>2021-8-19</td>\n",
       "      <td>2050</td>\n",
       "      <td>1999</td>\n",
       "      <td>51</td>\n",
       "    </tr>\n",
       "    <tr>\n",
       "      <th>1</th>\n",
       "      <td>2021-8-20</td>\n",
       "      <td>1877</td>\n",
       "      <td>1811</td>\n",
       "      <td>66</td>\n",
       "    </tr>\n",
       "    <tr>\n",
       "      <th>2</th>\n",
       "      <td>2021-8-21</td>\n",
       "      <td>1626</td>\n",
       "      <td>1588</td>\n",
       "      <td>38</td>\n",
       "    </tr>\n",
       "    <tr>\n",
       "      <th>3</th>\n",
       "      <td>2021-8-22</td>\n",
       "      <td>1417</td>\n",
       "      <td>1369</td>\n",
       "      <td>48</td>\n",
       "    </tr>\n",
       "    <tr>\n",
       "      <th>4</th>\n",
       "      <td>2021-8-23</td>\n",
       "      <td>1507</td>\n",
       "      <td>1468</td>\n",
       "      <td>39</td>\n",
       "    </tr>\n",
       "    <tr>\n",
       "      <th>5</th>\n",
       "      <td>2021-8-24</td>\n",
       "      <td>2154</td>\n",
       "      <td>2113</td>\n",
       "      <td>41</td>\n",
       "    </tr>\n",
       "    <tr>\n",
       "      <th>6</th>\n",
       "      <td>2021-8-25</td>\n",
       "      <td>1882</td>\n",
       "      <td>1829</td>\n",
       "      <td>53</td>\n",
       "    </tr>\n",
       "  </tbody>\n",
       "</table>\n",
       "</div>"
      ],
      "text/plain": [
       "          날짜  신규합계  국내발생  해외유입\n",
       "0  2021-8-19  2050  1999    51\n",
       "1  2021-8-20  1877  1811    66\n",
       "2  2021-8-21  1626  1588    38\n",
       "3  2021-8-22  1417  1369    48\n",
       "4  2021-8-23  1507  1468    39\n",
       "5  2021-8-24  2154  2113    41\n",
       "6  2021-8-25  1882  1829    53"
      ]
     },
     "execution_count": 62,
     "metadata": {},
     "output_type": "execute_result"
    }
   ],
   "source": [
    "df"
   ]
  },
  {
   "cell_type": "code",
   "execution_count": 63,
   "id": "74d73c36",
   "metadata": {
    "scrolled": true
   },
   "outputs": [
    {
     "name": "stdout",
     "output_type": "stream",
     "text": [
      "<class 'pandas.core.frame.DataFrame'>\n",
      "RangeIndex: 7 entries, 0 to 6\n",
      "Data columns (total 4 columns):\n",
      " #   Column  Non-Null Count  Dtype \n",
      "---  ------  --------------  ----- \n",
      " 0   날짜      7 non-null      object\n",
      " 1   신규합계    7 non-null      int64 \n",
      " 2   국내발생    7 non-null      int64 \n",
      " 3   해외유입    7 non-null      int64 \n",
      "dtypes: int64(3), object(1)\n",
      "memory usage: 352.0+ bytes\n"
     ]
    }
   ],
   "source": [
    "df.info()"
   ]
  },
  {
   "cell_type": "code",
   "execution_count": 64,
   "id": "1224c4a8",
   "metadata": {},
   "outputs": [],
   "source": [
    "df.to_excel('./making/covid_7days.xlsx',index = False)"
   ]
  },
  {
   "cell_type": "markdown",
   "id": "5c11bfef",
   "metadata": {},
   "source": [
    "# DF 데이터베이스에 저장하기"
   ]
  },
  {
   "cell_type": "code",
   "execution_count": 65,
   "id": "7c19fbbf",
   "metadata": {},
   "outputs": [],
   "source": [
    "import pymysql\n",
    "\n",
    "conn = pymysql.connect(host= '127.0.0.1', \n",
    "                        user = 'root', \n",
    "                        password='1234', \n",
    "                        db = 'project1', \n",
    "                        port=3307, \n",
    "                        charset='utf8')\n",
    "\n",
    "cur = conn.cursor()"
   ]
  },
  {
   "cell_type": "code",
   "execution_count": 66,
   "id": "c09d4589",
   "metadata": {},
   "outputs": [
    {
     "data": {
      "text/plain": [
       "0"
      ]
     },
     "execution_count": 66,
     "metadata": {},
     "output_type": "execute_result"
    }
   ],
   "source": [
    "cur.execute(\"CREATE TABLE IF NOT EXISTS covid_7days (date date, new int, fromin int, fromout int)\")"
   ]
  },
  {
   "cell_type": "code",
   "execution_count": 67,
   "id": "6cabe0a2",
   "metadata": {},
   "outputs": [],
   "source": [
    "sql = 'insert into covid_7days (date, new, fromin, fromout) values(%s, %s, %s, %s)'\n",
    "\n",
    "for idx in range(len(df)):\n",
    "\tcur.execute(sql, tuple(df.values[idx]))\n",
    "    \n",
    "conn.commit()\n",
    "\n",
    "conn.close()"
   ]
  }
 ],
 "metadata": {
  "kernelspec": {
   "display_name": "Python 3",
   "language": "python",
   "name": "python3"
  },
  "language_info": {
   "codemirror_mode": {
    "name": "ipython",
    "version": 3
   },
   "file_extension": ".py",
   "mimetype": "text/x-python",
   "name": "python",
   "nbconvert_exporter": "python",
   "pygments_lexer": "ipython3",
   "version": "3.8.8"
  }
 },
 "nbformat": 4,
 "nbformat_minor": 5
}
