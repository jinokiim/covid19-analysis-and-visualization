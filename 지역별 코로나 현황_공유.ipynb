{
 "cells": [
  {
   "cell_type": "markdown",
   "id": "2502202a",
   "metadata": {},
   "source": [
    "# 지역별 코로나 현황 "
   ]
  },
  {
   "cell_type": "code",
   "execution_count": 1,
   "id": "e725ed2b",
   "metadata": {},
   "outputs": [],
   "source": [
    "from selenium import webdriver\n",
    "\n",
    "driver = webdriver.Chrome('C:/playwithdata/chromedriver.exe')"
   ]
  },
  {
   "cell_type": "code",
   "execution_count": 2,
   "id": "68019eb9",
   "metadata": {},
   "outputs": [],
   "source": [
    "url = 'https://search.naver.com/search.naver?where=nexearch&sm=top_hty&fbm=1&ie=utf8&query=%EC%BD%94%EB%A1%9C%EB%82%98+%ED%98%84%ED%99%A9'\n",
    "driver.get(url)"
   ]
  },
  {
   "cell_type": "code",
   "execution_count": 3,
   "id": "0e4a39c2",
   "metadata": {},
   "outputs": [],
   "source": [
    "from bs4 import BeautifulSoup"
   ]
  },
  {
   "cell_type": "markdown",
   "id": "95305bfc",
   "metadata": {},
   "source": [
    "# 코로나 현황 페이지에서 지역별 표 클릭해서 데이터 가져오기"
   ]
  },
  {
   "cell_type": "code",
   "execution_count": 4,
   "id": "9c6a17f0",
   "metadata": {},
   "outputs": [],
   "source": [
    "data1 = driver.find_elements_by_css_selector('div > div:nth-child(4) > div > div.info_top > div > div > div > ul > li:nth-child(2) > a > span')\n",
    "\n",
    "data1[0].click()"
   ]
  },
  {
   "cell_type": "code",
   "execution_count": 5,
   "id": "cc356f7c",
   "metadata": {},
   "outputs": [],
   "source": [
    "html1 = driver.page_source\n",
    "soup1 = BeautifulSoup(html1,'html.parser')"
   ]
  },
  {
   "cell_type": "code",
   "execution_count": 6,
   "id": "d0eac6c8",
   "metadata": {},
   "outputs": [],
   "source": [
    "# 지역별 표가 있는 곳으로 접근해서 data1에 저장하기 \n",
    "data1_table = soup1.select('#_cs_production_type > div > div:nth-child(4) > div > div:nth-child(3) >\\\n",
    "                     div:nth-child(1) > div > table > tbody')"
   ]
  },
  {
   "cell_type": "code",
   "execution_count": 7,
   "id": "b68a4032",
   "metadata": {},
   "outputs": [],
   "source": [
    "name = [] #지역 리스트 \n",
    "city_total = [] #누적확진자 리스트\n",
    "city_new = [] # 신규확진자 리스트 "
   ]
  },
  {
   "cell_type": "code",
   "execution_count": 9,
   "id": "4cf72d9d",
   "metadata": {},
   "outputs": [],
   "source": [
    "for data in data1_table : \n",
    "    for i, a in enumerate(data.select('span')):\n",
    "        if i % 3 == 0:\n",
    "            name.append(a.text.strip())\n",
    "        elif i % 3 == 1 : \n",
    "            city_total.append(a.text.strip())\n",
    "        elif i % 3 == 2 : \n",
    "            city_new.append(a.text.strip())\n",
    "        "
   ]
  },
  {
   "cell_type": "code",
   "execution_count": 10,
   "id": "c9cf5c90",
   "metadata": {},
   "outputs": [
    {
     "name": "stdout",
     "output_type": "stream",
     "text": [
      "['서울', '경기', '대구', '인천', '부산', '경남', '경북', '충남']\n",
      "['76,814', '68,671', '13,287', '11,406', '11,077', '9,683', '6,866', '6,639']\n",
      "['569', '513', '95', '102', '78', '68', '64', '92']\n"
     ]
    }
   ],
   "source": [
    "print(name)\n",
    "print(city_total)\n",
    "print(city_new)"
   ]
  },
  {
   "cell_type": "markdown",
   "id": "bf4679fc",
   "metadata": {},
   "source": [
    "# 2페이지로 넘어가기"
   ]
  },
  {
   "cell_type": "code",
   "execution_count": 11,
   "id": "de1e6db1",
   "metadata": {},
   "outputs": [],
   "source": [
    "data2 = driver.find_elements_by_css_selector('div > div:nth-child(4) > div > div:nth-child(3) > div.csp_paging_area._page_root > div > div > a.csp_pg_next._next.on')\n",
    "\n",
    "data2[0].click()"
   ]
  },
  {
   "cell_type": "code",
   "execution_count": 12,
   "id": "1a70abf7",
   "metadata": {},
   "outputs": [],
   "source": [
    "data2_table = soup1.select('#_cs_production_type > div > div:nth-child(4) > div > div:nth-child(3) > div:nth-child(2) > div > table > tbody')"
   ]
  },
  {
   "cell_type": "code",
   "execution_count": 13,
   "id": "f9e1d74f",
   "metadata": {},
   "outputs": [
    {
     "name": "stdout",
     "output_type": "stream",
     "text": [
      "['서울', '경기', '대구', '인천', '부산', '경남', '경북', '충남', '검역', '대전', '강원', '충북', '울산', '광주', '전북', '제주']\n",
      "['76,814', '68,671', '13,287', '11,406', '11,077', '9,683', '6,866', '6,639', '5,761', '5,463', '5,268', '4,991', '4,037', '3,948', '3,441', '2,524']\n",
      "['569', '513', '95', '102', '78', '68', '64', '92', '23', '50', '26', '38', '40', '28', '45', '30']\n"
     ]
    }
   ],
   "source": [
    "for data in data2_table : \n",
    "    for i, a in enumerate(data.select('span')):\n",
    "        if i % 3 == 0:\n",
    "            name.append(a.text.strip())\n",
    "        elif i % 3 == 1 : \n",
    "            city_total.append(a.text.strip())\n",
    "        elif i % 3 == 2 : \n",
    "            city_new.append(a.text.strip())\n",
    "\n",
    "print(name)\n",
    "print(city_total)\n",
    "print(city_new)"
   ]
  },
  {
   "cell_type": "markdown",
   "id": "63f35913",
   "metadata": {},
   "source": [
    "# 3페이지로 넘어가기"
   ]
  },
  {
   "cell_type": "code",
   "execution_count": 14,
   "id": "8da94e8d",
   "metadata": {},
   "outputs": [],
   "source": [
    "data3 = driver.find_elements_by_css_selector('div > div:nth-child(4) > div > div:nth-child(3) > div.csp_paging_area._page_root > div > div > a.csp_pg_next._next.on')\n",
    "\n",
    "data3[0].click()"
   ]
  },
  {
   "cell_type": "code",
   "execution_count": 15,
   "id": "54968065",
   "metadata": {
    "scrolled": true
   },
   "outputs": [
    {
     "name": "stdout",
     "output_type": "stream",
     "text": [
      "['서울', '경기', '대구', '인천', '부산', '경남', '경북', '충남', '검역', '대전', '강원', '충북', '울산', '광주', '전북', '제주', '전남', '세종']\n",
      "['76,814', '68,671', '13,287', '11,406', '11,077', '9,683', '6,866', '6,639', '5,761', '5,463', '5,268', '4,991', '4,037', '3,948', '3,441', '2,524', '2,487', '954']\n",
      "['569', '513', '95', '102', '78', '68', '64', '92', '23', '50', '26', '38', '40', '28', '45', '30', '8', '10']\n"
     ]
    }
   ],
   "source": [
    "data3_table = soup1.select('#_cs_production_type > div > div:nth-child(4) > div > div:nth-child(3) > div:nth-child(3) > div > table > tbody')\n",
    "\n",
    "for data in data3_table : \n",
    "    for i, a in enumerate(data.select('span')):\n",
    "        if i % 3 == 0:\n",
    "            name.append(a.text.strip())\n",
    "        elif i % 3 == 1 : \n",
    "            city_total.append(a.text.strip())\n",
    "        elif i % 3 == 2 : \n",
    "            city_new.append(a.text.strip())\n",
    "\n",
    "print(name)\n",
    "print(city_total)\n",
    "print(city_new)"
   ]
  },
  {
   "cell_type": "markdown",
   "id": "efd861dc",
   "metadata": {},
   "source": [
    "# DF로 만들어서 엑셀에 저장하기"
   ]
  },
  {
   "cell_type": "code",
   "execution_count": 16,
   "id": "64b81d08",
   "metadata": {},
   "outputs": [],
   "source": [
    "dic = {\n",
    "    '지역' : name,\n",
    "    '누적확진자' : city_total,\n",
    "    '신규확진자' : city_new\n",
    "}"
   ]
  },
  {
   "cell_type": "code",
   "execution_count": 17,
   "id": "d26fb596",
   "metadata": {},
   "outputs": [],
   "source": [
    "import pandas as pd"
   ]
  },
  {
   "cell_type": "code",
   "execution_count": 18,
   "id": "362e5a3e",
   "metadata": {},
   "outputs": [],
   "source": [
    "df1 = pd.DataFrame(dic)"
   ]
  },
  {
   "cell_type": "code",
   "execution_count": 19,
   "id": "113d6998",
   "metadata": {},
   "outputs": [
    {
     "name": "stdout",
     "output_type": "stream",
     "text": [
      "<class 'pandas.core.frame.DataFrame'>\n",
      "RangeIndex: 18 entries, 0 to 17\n",
      "Data columns (total 3 columns):\n",
      " #   Column  Non-Null Count  Dtype \n",
      "---  ------  --------------  ----- \n",
      " 0   지역      18 non-null     object\n",
      " 1   누적확진자   18 non-null     object\n",
      " 2   신규확진자   18 non-null     object\n",
      "dtypes: object(3)\n",
      "memory usage: 560.0+ bytes\n"
     ]
    }
   ],
   "source": [
    "df1.info()"
   ]
  },
  {
   "cell_type": "code",
   "execution_count": 20,
   "id": "ce88199b",
   "metadata": {},
   "outputs": [],
   "source": [
    "for i in range(len(df1['누적확진자'])):\n",
    "    df1['누적확진자'][i] = df1['누적확진자'][i].replace(',','')"
   ]
  },
  {
   "cell_type": "code",
   "execution_count": 21,
   "id": "01cce0c5",
   "metadata": {
    "scrolled": false
   },
   "outputs": [
    {
     "data": {
      "text/html": [
       "<div>\n",
       "<style scoped>\n",
       "    .dataframe tbody tr th:only-of-type {\n",
       "        vertical-align: middle;\n",
       "    }\n",
       "\n",
       "    .dataframe tbody tr th {\n",
       "        vertical-align: top;\n",
       "    }\n",
       "\n",
       "    .dataframe thead th {\n",
       "        text-align: right;\n",
       "    }\n",
       "</style>\n",
       "<table border=\"1\" class=\"dataframe\">\n",
       "  <thead>\n",
       "    <tr style=\"text-align: right;\">\n",
       "      <th></th>\n",
       "      <th>지역</th>\n",
       "      <th>누적확진자</th>\n",
       "      <th>신규확진자</th>\n",
       "    </tr>\n",
       "  </thead>\n",
       "  <tbody>\n",
       "    <tr>\n",
       "      <th>0</th>\n",
       "      <td>서울</td>\n",
       "      <td>76814</td>\n",
       "      <td>569</td>\n",
       "    </tr>\n",
       "    <tr>\n",
       "      <th>1</th>\n",
       "      <td>경기</td>\n",
       "      <td>68671</td>\n",
       "      <td>513</td>\n",
       "    </tr>\n",
       "    <tr>\n",
       "      <th>2</th>\n",
       "      <td>대구</td>\n",
       "      <td>13287</td>\n",
       "      <td>95</td>\n",
       "    </tr>\n",
       "    <tr>\n",
       "      <th>3</th>\n",
       "      <td>인천</td>\n",
       "      <td>11406</td>\n",
       "      <td>102</td>\n",
       "    </tr>\n",
       "    <tr>\n",
       "      <th>4</th>\n",
       "      <td>부산</td>\n",
       "      <td>11077</td>\n",
       "      <td>78</td>\n",
       "    </tr>\n",
       "    <tr>\n",
       "      <th>5</th>\n",
       "      <td>경남</td>\n",
       "      <td>9683</td>\n",
       "      <td>68</td>\n",
       "    </tr>\n",
       "    <tr>\n",
       "      <th>6</th>\n",
       "      <td>경북</td>\n",
       "      <td>6866</td>\n",
       "      <td>64</td>\n",
       "    </tr>\n",
       "    <tr>\n",
       "      <th>7</th>\n",
       "      <td>충남</td>\n",
       "      <td>6639</td>\n",
       "      <td>92</td>\n",
       "    </tr>\n",
       "    <tr>\n",
       "      <th>8</th>\n",
       "      <td>검역</td>\n",
       "      <td>5761</td>\n",
       "      <td>23</td>\n",
       "    </tr>\n",
       "    <tr>\n",
       "      <th>9</th>\n",
       "      <td>대전</td>\n",
       "      <td>5463</td>\n",
       "      <td>50</td>\n",
       "    </tr>\n",
       "    <tr>\n",
       "      <th>10</th>\n",
       "      <td>강원</td>\n",
       "      <td>5268</td>\n",
       "      <td>26</td>\n",
       "    </tr>\n",
       "    <tr>\n",
       "      <th>11</th>\n",
       "      <td>충북</td>\n",
       "      <td>4991</td>\n",
       "      <td>38</td>\n",
       "    </tr>\n",
       "    <tr>\n",
       "      <th>12</th>\n",
       "      <td>울산</td>\n",
       "      <td>4037</td>\n",
       "      <td>40</td>\n",
       "    </tr>\n",
       "    <tr>\n",
       "      <th>13</th>\n",
       "      <td>광주</td>\n",
       "      <td>3948</td>\n",
       "      <td>28</td>\n",
       "    </tr>\n",
       "    <tr>\n",
       "      <th>14</th>\n",
       "      <td>전북</td>\n",
       "      <td>3441</td>\n",
       "      <td>45</td>\n",
       "    </tr>\n",
       "    <tr>\n",
       "      <th>15</th>\n",
       "      <td>제주</td>\n",
       "      <td>2524</td>\n",
       "      <td>30</td>\n",
       "    </tr>\n",
       "    <tr>\n",
       "      <th>16</th>\n",
       "      <td>전남</td>\n",
       "      <td>2487</td>\n",
       "      <td>8</td>\n",
       "    </tr>\n",
       "    <tr>\n",
       "      <th>17</th>\n",
       "      <td>세종</td>\n",
       "      <td>954</td>\n",
       "      <td>10</td>\n",
       "    </tr>\n",
       "  </tbody>\n",
       "</table>\n",
       "</div>"
      ],
      "text/plain": [
       "    지역  누적확진자 신규확진자\n",
       "0   서울  76814   569\n",
       "1   경기  68671   513\n",
       "2   대구  13287    95\n",
       "3   인천  11406   102\n",
       "4   부산  11077    78\n",
       "5   경남   9683    68\n",
       "6   경북   6866    64\n",
       "7   충남   6639    92\n",
       "8   검역   5761    23\n",
       "9   대전   5463    50\n",
       "10  강원   5268    26\n",
       "11  충북   4991    38\n",
       "12  울산   4037    40\n",
       "13  광주   3948    28\n",
       "14  전북   3441    45\n",
       "15  제주   2524    30\n",
       "16  전남   2487     8\n",
       "17  세종    954    10"
      ]
     },
     "execution_count": 21,
     "metadata": {},
     "output_type": "execute_result"
    }
   ],
   "source": [
    "df1"
   ]
  },
  {
   "cell_type": "code",
   "execution_count": 22,
   "id": "24a97561",
   "metadata": {},
   "outputs": [],
   "source": [
    "df1.to_excel('./making/covid_city.xlsx', index = False)"
   ]
  },
  {
   "cell_type": "markdown",
   "id": "74a7e26d",
   "metadata": {},
   "source": [
    "# DF를 데이터 베이스에 저장하기"
   ]
  },
  {
   "cell_type": "code",
   "execution_count": 23,
   "id": "2235c67d",
   "metadata": {},
   "outputs": [],
   "source": [
    "import pymysql\n",
    "\n",
    "conn = pymysql.connect(host= '127.0.0.1', \n",
    "                        user = 'root', \n",
    "                        password='1234', \n",
    "                        db = 'project1', \n",
    "                        port=3307, \n",
    "                        charset='utf8')\n",
    "\n",
    "cur = conn.cursor()"
   ]
  },
  {
   "cell_type": "code",
   "execution_count": 24,
   "id": "628b5fdc",
   "metadata": {},
   "outputs": [],
   "source": [
    "cur.execute(\"CREATE TABLE IF NOT EXISTS covid_city (region char(8), allcases int, newcases int)\")\n",
    "\n",
    "sql = 'insert into covid_city (region, allcases, newcases) values(%s, %s, %s)'\n",
    "\n",
    "for idx in range(len(df1)):\n",
    "\tcur.execute(sql, tuple(df1.values[idx]))\n",
    "        \n",
    "conn.commit()\n",
    "\n",
    "conn.close()"
   ]
  }
 ],
 "metadata": {
  "kernelspec": {
   "display_name": "Python 3",
   "language": "python",
   "name": "python3"
  },
  "language_info": {
   "codemirror_mode": {
    "name": "ipython",
    "version": 3
   },
   "file_extension": ".py",
   "mimetype": "text/x-python",
   "name": "python",
   "nbconvert_exporter": "python",
   "pygments_lexer": "ipython3",
   "version": "3.7.11"
  }
 },
 "nbformat": 4,
 "nbformat_minor": 5
}
